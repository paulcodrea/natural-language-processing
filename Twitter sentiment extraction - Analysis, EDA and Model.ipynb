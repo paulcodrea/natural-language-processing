{
 "cells": [
  {
   "cell_type": "code",
   "execution_count": 4,
   "id": "a5c7ee64",
   "metadata": {},
   "outputs": [
    {
     "name": "stdout",
     "output_type": "stream",
     "text": [
      "C:\\Users\\paulc\\Downloads\\Jupyter_Notebook\n",
      "C:\\Users\\paulc\\Downloads\\Jupyter_Notebook\\kaggle\\models\\model_neg\\meta.json\n",
      "C:\\Users\\paulc\\Downloads\\Jupyter_Notebook\\kaggle\\models\\model_neg\\tokenizer\n",
      "C:\\Users\\paulc\\Downloads\\Jupyter_Notebook\\kaggle\\models\\model_neg\\ner\\cfg\n",
      "C:\\Users\\paulc\\Downloads\\Jupyter_Notebook\\kaggle\\models\\model_neg\\ner\\model\n",
      "C:\\Users\\paulc\\Downloads\\Jupyter_Notebook\\kaggle\\models\\model_neg\\ner\\moves\n",
      "C:\\Users\\paulc\\Downloads\\Jupyter_Notebook\\kaggle\\models\\model_neg\\vocab\\key2row\n",
      "C:\\Users\\paulc\\Downloads\\Jupyter_Notebook\\kaggle\\models\\model_neg\\vocab\\lexemes.bin\n",
      "C:\\Users\\paulc\\Downloads\\Jupyter_Notebook\\kaggle\\models\\model_neg\\vocab\\strings.json\n",
      "C:\\Users\\paulc\\Downloads\\Jupyter_Notebook\\kaggle\\models\\model_neg\\vocab\\vectors\n",
      "C:\\Users\\paulc\\Downloads\\Jupyter_Notebook\\kaggle\\models\\model_pos\\meta.json\n",
      "C:\\Users\\paulc\\Downloads\\Jupyter_Notebook\\kaggle\\models\\model_pos\\tokenizer\n",
      "C:\\Users\\paulc\\Downloads\\Jupyter_Notebook\\kaggle\\models\\model_pos\\ner\\cfg\n",
      "C:\\Users\\paulc\\Downloads\\Jupyter_Notebook\\kaggle\\models\\model_pos\\ner\\model\n",
      "C:\\Users\\paulc\\Downloads\\Jupyter_Notebook\\kaggle\\models\\model_pos\\ner\\moves\n",
      "C:\\Users\\paulc\\Downloads\\Jupyter_Notebook\\kaggle\\models\\model_pos\\vocab\\key2row\n",
      "C:\\Users\\paulc\\Downloads\\Jupyter_Notebook\\kaggle\\models\\model_pos\\vocab\\lexemes.bin\n",
      "C:\\Users\\paulc\\Downloads\\Jupyter_Notebook\\kaggle\\models\\model_pos\\vocab\\strings.json\n",
      "C:\\Users\\paulc\\Downloads\\Jupyter_Notebook\\kaggle\\models\\model_pos\\vocab\\vectors\n"
     ]
    }
   ],
   "source": [
    "import re\n",
    "import numpy as np\n",
    "import random\n",
    "import pandas as pd\n",
    "#import matplotlib.pyplot as plt\n",
    "#import seaborn as sns\n",
    "from collections import Counter\n",
    "\n",
    "import nltk\n",
    "from nltk.corpus import stopwords\n",
    "\n",
    "#from wordcloud import WordCloud, STOPWORDS, ImageColorGenerator\n",
    "\n",
    "import os\n",
    "#import spacy\n",
    "#from spacy.util import compounding\n",
    "#from spacy.uril import minibatch\n",
    "\n",
    "import warnings\n",
    "warnings.filterwarnings(\"ignore\")\n",
    "\n",
    "cwd = os.getcwd()\n",
    "print(cwd)\n",
    "\n",
    "for dirname, _, filenames in os.walk(f'{cwd}\\kaggle\\models'):\n",
    "    for filename in filenames:\n",
    "        print(os.path.join(dirname, filename))"
   ]
  },
  {
   "cell_type": "code",
   "execution_count": null,
   "id": "a9ab67c4",
   "metadata": {},
   "outputs": [],
   "source": []
  }
 ],
 "metadata": {
  "kernelspec": {
   "display_name": "Python 3 (ipykernel)",
   "language": "python",
   "name": "python3"
  },
  "language_info": {
   "codemirror_mode": {
    "name": "ipython",
    "version": 3
   },
   "file_extension": ".py",
   "mimetype": "text/x-python",
   "name": "python",
   "nbconvert_exporter": "python",
   "pygments_lexer": "ipython3",
   "version": "3.9.7"
  }
 },
 "nbformat": 4,
 "nbformat_minor": 5
}
