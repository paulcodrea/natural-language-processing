{
 "cells": [
  {
   "cell_type": "code",
   "execution_count": 1,
   "id": "cbe17481",
   "metadata": {},
   "outputs": [],
   "source": [
    "import os\n",
    "import re\n",
    "import pandas as pd\n",
    "import numpy as np \n",
    "import nltk\n",
    "\n",
    "from pathlib import Path\n",
    "from nltk.corpus import stopwords\n",
    "from nltk.tokenize import word_tokenize\n",
    "from collections import defaultdict"
   ]
  },
  {
   "cell_type": "code",
   "execution_count": 2,
   "id": "2af826ef",
   "metadata": {},
   "outputs": [],
   "source": [
    "class InvertedIndex:\n",
    "    \"\"\"\n",
    "    Construct Inverted Index\n",
    "    \"\"\"\n",
    "    #def __init__(self):\n",
    "\n",
    "    # Added the episodes in a dictionary which has the episode as a key \n",
    "    # and the values is a list of the episode lines\n",
    "    def read_data(self, path: str) -> list:\n",
    "        \"\"\"\n",
    "        Read files from a directory and then append the data of each file into a list.\n",
    "        \"\"\"\n",
    "        episodes = []\n",
    "        #episode_dict = defaultdict(list)\n",
    "        \n",
    "        for file in os.listdir(path):\n",
    "            if file.endswith(\".txt\"):\n",
    "                f = open(Path(path, file), encoding=\"utf8\")\n",
    "                raw = f.read()\n",
    "                episodes.append(raw)\n",
    "                #episode_dict[file].append(raw)\n",
    "        return episodes\n",
    "\n",
    "    def process_document(self, document: str) -> list:\n",
    "        \"\"\"\n",
    "        pre-process a document and return a list of its terms\n",
    "        str->list\"\"\"\n",
    "        \n",
    "        # Create a list of stopwords in English by using the NLTK library\n",
    "        stop_words = set(stopwords.words('english'))\n",
    "        \n",
    "        # Create a list of tokens from the document\n",
    "        word_tokens = word_tokenize(document)\n",
    "        filtered_sentence = [w for w in word_tokens if not w.lower() in stop_words]\n",
    "        \n",
    "        return filtered_sentence\n",
    "        \n",
    "    #def index_corpus(self, documents: list) -> None:\n",
    "        \"\"\"\n",
    "        index given documents\n",
    "        list->None\"\"\"\n",
    "     \n",
    "    #def proximity_search(self, term1: str, term2: str) -> dict:\n",
    "        \"\"\"\n",
    "        1) check whether given two terms appear within a window\n",
    "        2) calculate the number of their co-existance in a document\n",
    "        3) add the document id and the number of matches into a dict\n",
    "        return the dict\"\"\""
   ]
  },
  {
   "cell_type": "code",
   "execution_count": 3,
   "id": "70194d7e",
   "metadata": {},
   "outputs": [
    {
     "name": "stdout",
     "output_type": "stream",
     "text": [
      "Length of corpus - 0:  4097\n",
      "Length of corpus without stopwords - 0:  2785\n",
      "[('jackson', 53), ('episode', 46), ('simpsons', 28), ('raving', 24), ('dad', 23), ('stark', 22), ('michael', 20), ('kompowsky', 18), ('homer', 17), ('bart', 17)]\n"
     ]
    },
    {
     "ename": "KeyboardInterrupt",
     "evalue": "Interrupted by user",
     "output_type": "error",
     "traceback": [
      "\u001b[1;31m---------------------------------------------------------------------------\u001b[0m",
      "\u001b[1;31mKeyboardInterrupt\u001b[0m                         Traceback (most recent call last)",
      "\u001b[1;32m~\\AppData\\Local\\Temp/ipykernel_24608/3194974024.py\u001b[0m in \u001b[0;36m<module>\u001b[1;34m\u001b[0m\n\u001b[0;32m     29\u001b[0m     \u001b[1;32mreturn\u001b[0m \u001b[0mindex\u001b[0m\u001b[1;33m\u001b[0m\u001b[1;33m\u001b[0m\u001b[0m\n\u001b[0;32m     30\u001b[0m \u001b[1;33m\u001b[0m\u001b[0m\n\u001b[1;32m---> 31\u001b[1;33m \u001b[0mindex\u001b[0m \u001b[1;33m=\u001b[0m \u001b[0mmain\u001b[0m\u001b[1;33m(\u001b[0m\u001b[1;33m)\u001b[0m\u001b[1;33m\u001b[0m\u001b[1;33m\u001b[0m\u001b[0m\n\u001b[0m",
      "\u001b[1;32m~\\AppData\\Local\\Temp/ipykernel_24608/3194974024.py\u001b[0m in \u001b[0;36mmain\u001b[1;34m()\u001b[0m\n\u001b[0;32m     18\u001b[0m \u001b[1;33m\u001b[0m\u001b[0m\n\u001b[0;32m     19\u001b[0m \u001b[1;33m\u001b[0m\u001b[0m\n\u001b[1;32m---> 20\u001b[1;33m     \u001b[0msearch_term\u001b[0m \u001b[1;33m=\u001b[0m \u001b[0minput\u001b[0m\u001b[1;33m(\u001b[0m\u001b[1;34m\"Enter your query: \"\u001b[0m\u001b[1;33m)\u001b[0m \u001b[1;31m# insert a query\u001b[0m\u001b[1;33m\u001b[0m\u001b[1;33m\u001b[0m\u001b[0m\n\u001b[0m\u001b[0;32m     21\u001b[0m     \u001b[1;31m# write a demo to check entered search terms against the inverted index\u001b[0m\u001b[1;33m\u001b[0m\u001b[1;33m\u001b[0m\u001b[0m\n\u001b[0;32m     22\u001b[0m         \u001b[1;31m# 1) len(search _term) == one --> return the following:\u001b[0m\u001b[1;33m\u001b[0m\u001b[1;33m\u001b[0m\u001b[0m\n",
      "\u001b[1;32m~\\AppData\\Local\\Programs\\Python\\Python39\\lib\\site-packages\\ipykernel\\kernelbase.py\u001b[0m in \u001b[0;36mraw_input\u001b[1;34m(self, prompt)\u001b[0m\n\u001b[0;32m   1004\u001b[0m                 \u001b[1;34m\"raw_input was called, but this frontend does not support input requests.\"\u001b[0m\u001b[1;33m\u001b[0m\u001b[1;33m\u001b[0m\u001b[0m\n\u001b[0;32m   1005\u001b[0m             )\n\u001b[1;32m-> 1006\u001b[1;33m         return self._input_request(\n\u001b[0m\u001b[0;32m   1007\u001b[0m             \u001b[0mstr\u001b[0m\u001b[1;33m(\u001b[0m\u001b[0mprompt\u001b[0m\u001b[1;33m)\u001b[0m\u001b[1;33m,\u001b[0m\u001b[1;33m\u001b[0m\u001b[1;33m\u001b[0m\u001b[0m\n\u001b[0;32m   1008\u001b[0m             \u001b[0mself\u001b[0m\u001b[1;33m.\u001b[0m\u001b[0m_parent_ident\u001b[0m\u001b[1;33m[\u001b[0m\u001b[1;34m\"shell\"\u001b[0m\u001b[1;33m]\u001b[0m\u001b[1;33m,\u001b[0m\u001b[1;33m\u001b[0m\u001b[1;33m\u001b[0m\u001b[0m\n",
      "\u001b[1;32m~\\AppData\\Local\\Programs\\Python\\Python39\\lib\\site-packages\\ipykernel\\kernelbase.py\u001b[0m in \u001b[0;36m_input_request\u001b[1;34m(self, prompt, ident, parent, password)\u001b[0m\n\u001b[0;32m   1049\u001b[0m             \u001b[1;32mexcept\u001b[0m \u001b[0mKeyboardInterrupt\u001b[0m\u001b[1;33m:\u001b[0m\u001b[1;33m\u001b[0m\u001b[1;33m\u001b[0m\u001b[0m\n\u001b[0;32m   1050\u001b[0m                 \u001b[1;31m# re-raise KeyboardInterrupt, to truncate traceback\u001b[0m\u001b[1;33m\u001b[0m\u001b[1;33m\u001b[0m\u001b[0m\n\u001b[1;32m-> 1051\u001b[1;33m                 \u001b[1;32mraise\u001b[0m \u001b[0mKeyboardInterrupt\u001b[0m\u001b[1;33m(\u001b[0m\u001b[1;34m\"Interrupted by user\"\u001b[0m\u001b[1;33m)\u001b[0m \u001b[1;32mfrom\u001b[0m \u001b[1;32mNone\u001b[0m\u001b[1;33m\u001b[0m\u001b[1;33m\u001b[0m\u001b[0m\n\u001b[0m\u001b[0;32m   1052\u001b[0m             \u001b[1;32mexcept\u001b[0m \u001b[0mException\u001b[0m\u001b[1;33m:\u001b[0m\u001b[1;33m\u001b[0m\u001b[1;33m\u001b[0m\u001b[0m\n\u001b[0;32m   1053\u001b[0m                 \u001b[0mself\u001b[0m\u001b[1;33m.\u001b[0m\u001b[0mlog\u001b[0m\u001b[1;33m.\u001b[0m\u001b[0mwarning\u001b[0m\u001b[1;33m(\u001b[0m\u001b[1;34m\"Invalid Message:\"\u001b[0m\u001b[1;33m,\u001b[0m \u001b[0mexc_info\u001b[0m\u001b[1;33m=\u001b[0m\u001b[1;32mTrue\u001b[0m\u001b[1;33m)\u001b[0m\u001b[1;33m\u001b[0m\u001b[1;33m\u001b[0m\u001b[0m\n",
      "\u001b[1;31mKeyboardInterrupt\u001b[0m: Interrupted by user"
     ]
    }
   ],
   "source": [
    "def main():\n",
    "    \"main call function\"\n",
    "    index = InvertedIndex() # initilaise the index\n",
    "    corpus = index.read_data(f'{os.getcwd()}\\Simpsons\\Simpsons') # specify the directory path in which files are located\n",
    "    #index.index_corpus(corpus) # index documents/corpus\n",
    "    \n",
    "    processed_corpus = index.process_document(corpus[0])\n",
    "    print(\"Length of corpus - 0: \", len(word_tokenize(corpus[0])))\n",
    "    print(\"Length of corpus without stopwords - 0: \", len(processed_corpus))\n",
    "    \n",
    "    # Find the Freq of each word in the courpus[0]\n",
    "    # print out top 10 words in the corpus[0], in terms of freq\n",
    "    # Filter tokens that contain non-alphabetic character(s)\n",
    "    # using FreqDist - frequency distribbution\n",
    "    all_word_dist = nltk.FreqDist(w.lower() for w in processed_corpus if w.isalpha())\n",
    "    most_common = all_word_dist.most_common(10)\n",
    "    print(most_common)\n",
    "    \n",
    "    \n",
    "    search_term = input(\"Enter your query: \") # insert a query\n",
    "    # write a demo to check entered search terms against the inverted index\n",
    "        # 1) len(search _term) == one --> return the following: \n",
    "            # a) the number of documents in which a term appears.\n",
    "            # b) all document ids in which a term appears.\n",
    "            \n",
    "        # 2) len(search_term) == 2 --> return the following: \n",
    "            # a) the number of documents in which the entered terms appear within a pre-defined window.\n",
    "            # b) all document ids in which the terms appear within that window.\n",
    "    return index\n",
    "    \n",
    "index = main()"
   ]
  },
  {
   "cell_type": "code",
   "execution_count": null,
   "id": "4fb8da71",
   "metadata": {},
   "outputs": [],
   "source": []
  }
 ],
 "metadata": {
  "kernelspec": {
   "display_name": "Python 3 (ipykernel)",
   "language": "python",
   "name": "python3"
  },
  "language_info": {
   "codemirror_mode": {
    "name": "ipython",
    "version": 3
   },
   "file_extension": ".py",
   "mimetype": "text/x-python",
   "name": "python",
   "nbconvert_exporter": "python",
   "pygments_lexer": "ipython3",
   "version": "3.9.7"
  }
 },
 "nbformat": 4,
 "nbformat_minor": 5
}
